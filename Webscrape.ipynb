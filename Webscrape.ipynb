{
 "cells": [
  {
   "cell_type": "code",
   "execution_count": 4,
   "metadata": {},
   "outputs": [],
   "source": [
    "import requests\n",
    "from bs4 import BeautifulSoup"
   ]
  },
  {
   "cell_type": "code",
   "execution_count": 3,
   "metadata": {},
   "outputs": [
    {
     "name": "stdout",
     "output_type": "stream",
     "text": [
      "Collecting beautifulsoup4\n",
      "\u001b[?25l  Downloading https://files.pythonhosted.org/packages/d1/41/e6495bd7d3781cee623ce23ea6ac73282a373088fcd0ddc809a047b18eae/beautifulsoup4-4.9.3-py3-none-any.whl (115kB)\n",
      "\u001b[K    100% |████████████████████████████████| 122kB 367kB/s ta 0:00:01\n",
      "\u001b[?25hCollecting soupsieve>1.2; python_version >= \"3.0\" (from beautifulsoup4)\n",
      "  Downloading https://files.pythonhosted.org/packages/02/fb/1c65691a9aeb7bd6ac2aa505b84cb8b49ac29c976411c6ab3659425e045f/soupsieve-2.1-py3-none-any.whl\n",
      "Installing collected packages: soupsieve, beautifulsoup4\n",
      "Successfully installed beautifulsoup4-4.9.3 soupsieve-2.1\n",
      "\u001b[33mYou are using pip version 19.0.3, however version 20.3.3 is available.\n",
      "You should consider upgrading via the 'pip install --upgrade pip' command.\u001b[0m\n",
      "Note: you may need to restart the kernel to use updated packages.\n"
     ]
    }
   ],
   "source": [
    "#https://www.jazz24.org/the-jazz-100/"
   ]
  },
  {
   "cell_type": "markdown",
   "metadata": {},
   "source": [
    "# Jazz top 100 List"
   ]
  },
  {
   "cell_type": "code",
   "execution_count": 7,
   "metadata": {},
   "outputs": [],
   "source": [
    "response = requests.get('https://www.jazz24.org/the-jazz-100/')"
   ]
  },
  {
   "cell_type": "code",
   "execution_count": 12,
   "metadata": {},
   "outputs": [
    {
     "data": {
      "text/plain": [
       "'<!doctype html><html lang=\"en-US\"><head><meta charset=\"UTF-8\"><meta name=\"viewport\" content=\"width=d'"
      ]
     },
     "execution_count": 12,
     "metadata": {},
     "output_type": "execute_result"
    }
   ],
   "source": [
    "response.text[:100]"
   ]
  },
  {
   "cell_type": "code",
   "execution_count": 14,
   "metadata": {},
   "outputs": [],
   "source": [
    "soup = BeautifulSoup(response.text, 'html.parser')\n",
    "# print(soup.prettify())"
   ]
  },
  {
   "cell_type": "code",
   "execution_count": 53,
   "metadata": {},
   "outputs": [],
   "source": [
    "# soup.find_all('tr')"
   ]
  },
  {
   "cell_type": "code",
   "execution_count": 54,
   "metadata": {},
   "outputs": [],
   "source": [
    "# soup.find_all('i')"
   ]
  },
  {
   "cell_type": "code",
   "execution_count": 52,
   "metadata": {},
   "outputs": [
    {
     "name": "stdout",
     "output_type": "stream",
     "text": [
      "[['Take Five', 'Dave Brubeck'], ['So What', 'Miles Davis'], ['Take The A Train', 'Duke Ellington'], ['Round Midnight', 'Thelonious Monk'], ['My Favorite Things', 'John Coltrane'], ['A Love Supreme\\n(Acknowledgment)', 'John Coltrane'], ['All Blues', 'Miles Davis'], ['Birdland', 'Weather Report'], ['The Girl From\\nIpanema', 'Stan Getz &\\nAstrud Gilberto'], ['Sing, Sing, Sing', 'Benny Goodman'], ['Strange Fruit', 'Billie Holiday'], ['A Night in Tunisia', 'Dizzy Gillespie'], ['Giant Steps', 'John Coltrane'], ['Blue Rondo a la Turk', 'Dave Brubeck'], ['Goodbye Pork Pie Hat', 'Charles Mingus'], ['Stolen Moments', 'Oliver Nelson'], ['West End Blues', 'Louis Armstrong'], ['God Bless The Child', 'Billie Holiday'], ['Cantaloupe Island', 'Herbie Hancock'], ['My Funny Valentine', 'Chet Baker'], ['Body And Soul', 'Coleman Hawkins'], ['Song For My Father', 'Horace Silver'], ['Spain', 'Chick Corea'], ['Blue In Green', 'Miles Davis'], ['Naima', 'John Coltrane'], ['Flamenco Sketches', 'Miles Davis'], ['Waltz For Debby', 'Bill Evans'], ['Autumn Leaves', 'Cannonball\\nAdderley'], ['St. Thomas', 'Sonny Rollins'], ['Mercy, Mercy, Mercy', 'Cannonball\\nAdderley'], ['What A Wonderful\\nWorld', 'Louis Armstrong'], ['Lush Life', 'John\\nColtrane/Johnny Hartman'], ['Blue Train', 'John Coltrane'], ['Poinciana', 'Ahmad Jamal'], ['In a Sentimental\\nMood', 'Duke Ellington\\n& John Coltrane'], ['Freddie Freeloader', 'Miles Davis'], ['Summertime', 'Ella Fitzgerald'], ['Watermelon Man', 'Herbie Hancock'], ['Salt Peanuts', 'Dizzy Gillespie'], [\"Moanin'\", 'Art Blakey'], ['Straight, No Chaser', 'Thelonious Monk'], ['Good Morning\\nHeartache', 'Billie Holiday'], ['Mack the Knife', 'Ella Fitzgerald'], ['In the Mood', 'Glenn Miller'], ['Desafinado', 'Stan Getz'], ['Cast Your Fate To\\nThe Wind', 'Vince Guaraldi'], ['Rhapsody in Blue', 'George Gershwin'], ['Blue Monk', 'Thelonious Monk'], ['Caravan', 'Duke Ellington'], ['Sidewinder', 'Lee Morgan'], ['Django', 'Modern Jazz\\nQuartet'], ['Compared To What', 'Les McCann'], ['Red Clay', 'Freddie Hubbard'], ['Ruby, My Dear', 'Thelonious Monk'], ['April in Paris', 'Count Basie'], ['Bitches Brew', 'Miles Davis'], ['Twisted', 'Lambert,\\nHendricks & Ross'], ['Maiden Voyage', 'Herbie Hancock'], ['Mood Indigo', 'Duke Ellington'], ['St. Louis Blues', 'Louis Armstrong'], ['Manteca', 'Dizzy Gillespie'], ['How High The Moon', 'Ella Fitzgerald'], ['At Last', 'Etta James'], ['Fever', 'Peggy Lee'], ['Satin Doll', 'Duke Ellington'], ['Someday My Prince\\nWill Come', 'Miles Davis'], ['Autumn in New York', 'Billie Holiday'], ['Epistrophy', 'Thelonious Monk'], ['I Loves You Porgy', 'Nina Simone'], [\"It Don't Mean A\\nThing\", 'Duke Ellington'], ['Koko', 'Charlie Parker'], ['Milestones', 'Miles Davis'], ['Misterioso', 'Thelonious Monk'], ['Nuages', 'Django\\nReinhardt'], [\"Struttin' with Some\\nBBQ\", 'Louis Armstrong'], ['The In Crowd', 'Ramsey Lewis'], [\"Ain't Misbehavin\", 'Fats Waller'], ['Bye Bye Blackbird', 'John Coltrane'], ['On Green Dolphin\\nStreet', 'Miles Davis'], ['Linus and Lucy', 'Vince Guaraldi'], ['Georgia on My Mind', 'Ray Charles'], ['Joy Spring', 'Clifford Brown\\n& Max Roach'], [\"One O'Clock\\nJump\\xa0\", 'Count Basie'], ['Potato Head Blues', 'Louis Armstrong'], ['Bumpin’ (On Sunset)', 'Wes Montgomery'], ['Feeling Good', 'Nina Simone'], ['Misty', 'Errol Garner'], [\"Moody's Mood For\\nLove\", 'James Moody'], ['Stardust', 'Louis Armstrong'], ['Yardbird Suite', 'Charlie Parker'], ['Diminuendo &\\nCrescendo in Blue', 'Duke Ellington'], ['Donna Lee', 'Charlie Parker'], ['Water Boy', 'Don Shirley'], ['Ornithology', 'Charlie Parker'], ['Begin the Beguine', 'Artie Shaw'], ['Ceora', 'Lee Morgan'], ['Sophisticated Lady', 'Duke Ellington'], ['Sugar', 'Stanley\\nTurrentine'], ['Footprints', 'Wayne Shorter'], ['Four on Six', 'Wes Montgomery']]\n"
     ]
    }
   ],
   "source": [
    "jazz = [['Take Five', 'Dave Brubeck']]\n",
    "for a, s in zip(soup.find_all(class_='xl76'), soup.find_all(class_='xl75')):\n",
    "    jazz.append([s.string, a.string])\n",
    "    \n",
    "print(jazz)"
   ]
  },
  {
   "cell_type": "code",
   "execution_count": 47,
   "metadata": {},
   "outputs": [
    {
     "data": {
      "text/plain": [
       "'Les McCann'"
      ]
     },
     "execution_count": 47,
     "metadata": {},
     "output_type": "execute_result"
    }
   ],
   "source": []
  },
  {
   "cell_type": "markdown",
   "metadata": {},
   "source": [
    "---\n",
    "# Metal top 100 List"
   ]
  },
  {
   "cell_type": "code",
   "execution_count": 121,
   "metadata": {},
   "outputs": [],
   "source": [
    "response = requests.get('https://digitaldreamdoor.com/pages/best_metal-songs.html')\n",
    "response.encoding = 'utf-8'"
   ]
  },
  {
   "cell_type": "code",
   "execution_count": 122,
   "metadata": {},
   "outputs": [],
   "source": [
    "soup = BeautifulSoup(response.text, 'html.parser')"
   ]
  },
  {
   "cell_type": "code",
   "execution_count": 123,
   "metadata": {},
   "outputs": [],
   "source": [
    "# print(soup.prettify())"
   ]
  },
  {
   "cell_type": "code",
   "execution_count": 124,
   "metadata": {},
   "outputs": [
    {
     "name": "stdout",
     "output_type": "stream",
     "text": [
      "[['Hallowed Be Thy Name', 'Iron Maiden'], ['War Pigs', 'Black Sabbath'], ['Master of Puppets', 'Metallica'], ['Paranoid', 'Black Sabbath'], ['Angel of Death', 'Slayer'], ['Ace of Spades', 'Motorhead'], ['Black Sabbath', 'Black Sabbath'], ['Victim of Changes', 'Judas Priest'], ['The Number of the Beast', 'Iron Maiden'], ['Iron Man', 'Black Sabbath'], ['Raining Blood', 'Slayer'], ['Stargazer', 'Rainbow'], ['Beyond the Realms of Death', 'Judas Priest'], ['One', 'Metallica'], ['Holy Wars... The Punishment Due', 'Megadeth'], ['The Trooper', 'Iron Maiden'], ['Crazy Train', 'Ozzy Osbourne'], ['Heaven and Hell', 'Black Sabbath'], ['Run to the Hills', 'Iron Maiden'], ['Painkiller', 'Judas Priest'], ['Seek and Destroy', 'Metallica'], ['Sabbath, Bloody Sabbath', 'Black Sabbath'], ['Hellion/Electric Eye', 'Judas Priest'], ['N.I.B.', 'Black Sabbath'], ['Creeping Death', 'Metallica'], ['Fade to Black', 'Metallica'], ['Peace Sells', 'Megadeth'], ['Cemetery Gates', 'Pantera'], ['Witching Hour', 'Venom'], ['Holy Diver', 'Dio'], ['Phantom of the Opera', 'Iron Maiden'], ['The Oath', 'Mercyful Fate'], ['Rime of the Ancient Mariner', 'Iron Maiden'], ['Symptom of the Universe', 'Black Sabbath'], [\"You've got Another Thing Coming\", 'Judas Priest'], ['Aces High', 'Iron Maiden'], ['Pull The Plug', 'Death'], ['Am I Evil?', 'Diamond Head'], ['Enter Sandman', 'Metallica'], ['Children Of The Grave', 'Black Sabbath'], ['For Whom the Bell Tolls', 'Metallica'], ['Cowboys from Hell', 'Pantera'], ['Black Metal', 'Venom'], ['Breaking the Law', 'Judas Priest'], ['Seasons in the Abyss', 'Slayer'], ['Symphony of Destruction', 'Megadeth'], ['Halloween', 'Helloween'], ['Fast As A Shark', 'Accept'], ['Caught in a Mosh', 'Anthrax'], ['Freezing Moon', 'Mayhem'], ['Mr. Crowley', 'Ozzy Osbourne'], ['Queen of the Reich', 'Queensryche'], ['Walk', 'Pantera'], ['Hangar 18', 'Megadeth'], ['2 Minutes to Midnight', 'Iron Maiden'], ['War Ensemble', 'Slayer'], ['Metropolis Part I', 'Dream Theater'], ['Into the Void', 'Black Sabbath'], ['Balls To The Wall', 'Accept'], ['Rainbow in the Dark', 'Dio'], ['The Four Horsemen', 'Metallica'], ['The Philosopher', 'Death'], ['Fear Of The Dark', 'Iron Maiden'], ['Pull Me Under', 'Dream Theater'], ['I am the Black Wizards', 'Emperor'], ['Bonded by Blood', 'Exodus'], ['Hammer Smashed Face', 'Cannibal Corpse'], ['Battle Hymn', 'Manowar'], ['Over The Mountain', 'Ozzy Osbourne'], ['Powerslave', 'Iron Maiden'], ['Keeper of the Seven Keys', 'Helloween'], ['A Fine Day to Die', 'Bathory'], ['Heartwork', 'Carcass'], ['The Last In Line', 'Dio'], ['South Of Heaven', 'Slayer'], ['Transilvanian Hunger', 'Darkthrone'], ['Sweet Leaf', 'Black Sabbath'], ['Eyes of a Stranger', 'Queensrÿche'], ['Killers', 'Iron Maiden'], ['Screaming For Vengeance', 'Judas Priest'], ['Guardian', 'Fates Warning'], ['The Exorcist', 'Possessed'], ['Kill The King', 'Rainbow'], ['Crystal Mountain', 'Death'], ['Wasted Years', 'Iron Maiden'], ['Elimination', 'Overkill'], ['Blackwater Park', 'Opeth'], ['Blinded By Fear', 'At the Gates'], ['Divine Wings of Tragedy', 'Symphony X'], ['Neon Knights', 'Black Sabbath'], ['Evil', 'Mercyful Fate'], ['Tornado of Souls', 'Megadeth'], ['Over the Wall', 'Testament'], ['Solitude', 'Candlemass'], ['Nightfall', 'Blind Guardian'], ['Jesu Død', 'Burzum'], ['Exciter', 'Judas Priest'], ['Chapel of Ghouls', 'Morbid Angel'], ['Battery', 'Metallica'], ['Fairies Wear Boots', 'Black Sabbath']]\n"
     ]
    }
   ],
   "source": [
    "c = 0\n",
    "metal = []\n",
    "pair = []\n",
    "\n",
    "for x in str(soup.find(class_='list')).split('<span>')[1:]:\n",
    "    if c % 2 == 0:\n",
    "        pair.append(x[10:].strip().replace('> ', ''))\n",
    "        # print(x[10:].strip().replace('> ', ''))\n",
    "    else:\n",
    "        pair.append(x.split('- ')[1].split('</span><br/>')[0].strip())\n",
    "        metal.append(pair)\n",
    "        pair = []\n",
    "        # print(x.split('- ')[1].split('</span><br/>')[0].strip())\n",
    "        # print(\"------\")\n",
    "    c += 1\n",
    "    \n",
    "print(metal)"
   ]
  },
  {
   "cell_type": "markdown",
   "metadata": {},
   "source": [
    "---\n",
    "# Classic Rock top 100 List"
   ]
  },
  {
   "cell_type": "code",
   "execution_count": 125,
   "metadata": {},
   "outputs": [],
   "source": [
    "response = requests.get('http://rocknrollamerica.net/Top1000.html')"
   ]
  },
  {
   "cell_type": "code",
   "execution_count": 127,
   "metadata": {},
   "outputs": [],
   "source": [
    "soup = BeautifulSoup(response.text, 'html.parser')"
   ]
  },
  {
   "cell_type": "code",
   "execution_count": 141,
   "metadata": {},
   "outputs": [
    {
     "name": "stdout",
     "output_type": "stream",
     "text": [
      "[['Stairway to Heaven', 'Led Zeppelin'], ['Hey Jude', 'Beatles'], ['All Along the Watchtower', 'Hendrix, Jimi'], ['Satisfaction', 'Rolling Stones'], ['Like A Rolling Stone', 'Dylan, Bob'], ['Another Brick In The Wall', 'Pink Floyd'], [\"Won't Get Fooled Again\", 'Who'], ['Hotel California', 'Eagles'], ['Layla', 'Derek And The Dominos'], ['Sweet Home Alabama', 'Lynyrd Skynyrd'], ['Bohemian Rhapsody', 'Queen'], ['Riders on the Storm', 'Doors'], ['Rock and Roll', 'Led Zeppelin'], ['Barracuda', 'Heart'], ['La Grange', 'ZZ Top'], ['Dream On', 'Aerosmith'], ['You Really Got Me', 'Van Halen'], ['More Than a Feeling', 'Boston'], ['Sultans of Swing', 'Dire Straits'], ['You Shook Me All Night Long', 'AC/DC'], ['Kashmir', 'Led Zeppelin'], ['Lola', 'Kinks'], ['Carry on Wayward Son', 'Kansas'], ['Tiny Dancer', 'John, Elton'], ['Locomotive Breath', 'Jethro Tull'], [\"I Still Haven't Found\", 'U2'], ['Magic Carpet Ride', 'Steppenwolf'], ['Free Bird', 'Lynyrd Skynyrd'], ['Purple Haze', 'Hendrix, Jimi'], ['Tom Sawyer', 'Rush'], ['Let It Be', 'Beatles'], [\"Baba O'Riley\", 'Who'], ['The Joker', 'Miller, Steve'], ['Roxanne', 'Police'], ['Time', 'Pink Floyd'], [\"It's A Long Way to the Top\", 'AC/DC'], ['Whole Lotta Love', 'Led Zeppelin'], ['The Chain', 'Fleetwood Mac'], [\"I've Seen All Good People\", 'Yes'], [\"For What It's Worth\", 'Buffalo Springfield'], ['Black Magic Woman', 'Santana'], ['Nights in White Satin', 'Moody Blues'], ['While My Guitar Gently Weeps', 'Beatles'], ['Gimme Shelter', 'Rolling Stones'], ['Gold Dust Woman', 'Fleetwood Mac'], ['Fortunate Son', 'CCR'], ['American Pie', 'McLean, Don'], ['Bad Company', 'Bad Company'], [\"Waitin' For The Bus/Jesus Just Left\", 'ZZ Top'], ['Over the Hills and Far Away', 'Led Zeppelin'], ['Owner of a Lonely Heart', 'Yes'], ['The Logical Song', 'Supertramp'], ['A Day in the Life', 'Beatles'], ['Sweet Emotion', 'Aerosmith'], ['Down On The Corner', 'CCR'], ['My Sweet Lord', 'Harrison, George'], [\"Knockin' on Heaven's Door\", 'Dylan, Bob'], ['Just What I Needed', 'Cars'], [\"Don't Fear the Reaper\", 'Blue Oyster Cult'], ['Behind Blue Eyes', 'Who'], ['Do It Again', 'Steely Dan'], ['Who Do You Love', 'Thorogood, George'], ['From the Beginning', 'ELP'], ['Already Gone', 'Eagles'], ['Here Comes The Sun', 'Beatles'], ['With Or Without You', 'U2'], [\"Life's Been Good\", 'Walsh, Joe'], ['Breakdown (Live Version)', 'Petty, Tom'], ['Comfortably Numb', 'Pink Floyd'], ['Ramble On', 'Led Zeppelin'], [\"I'd Love to Change the World\", 'Ten Years After'], ['Foreplay Longtime', 'Boston'], ['Brown Eyed Girl', 'Morrison, Van'], ['Back In Black', 'AC/DC'], [\"You Can't Always Get What You\", 'Rolling Stones'], ['Take It Easy', 'Eagles'], ['Sgt. Pepper/With A Little Help', 'Beatles'], ['We Will Rock You/We Are the', 'Queen'], ['Dancing Days', 'Led Zeppelin'], ['Turn the Page', 'Seger, Bob'], ['All Right Now', 'Free'], ['Black Water', 'Doobie Brothers'], ['Oh Well', 'Fleetwood Mac'], ['Me and Bobby McGee', 'Joplin, Janis'], ['Rocket Man', 'John, Elton'], ['Ohio', 'CSN&Y'], ['You Really Got Me', 'Kinks'], ['Bloody Well Right', 'Supertramp'], ['Dirty Deeds', 'AC/DC'], ['Aqualung', 'Jethro Tull'], ['The Wind Cries Mary', 'Hendrix, Jimi'], [\"Burnin' for You\", 'Blue Oyster Cult'], ['Moving in Stereo/All Mixed Up', 'Cars'], ['House of the Rising Sun', 'Animals'], ['Bargain', 'Who'], [\"Maybe I'm Amazed\", 'McCartney, Paul'], ['Bennie & The Jets', 'John, Elton'], ['Dust in the Wind', 'Kansas'], [\"Rock 'n Roll Hootchie Koo\", 'Derringer, Rick'], ['Crazy On You', 'Heart']]\n"
     ]
    }
   ],
   "source": [
    "c = 0\n",
    "rock = []\n",
    "pair = []\n",
    "for x in soup.find_all('td')[3:]:\n",
    "    if c % 3 == 0:\n",
    "        pass\n",
    "    elif c % 3 == 1:\n",
    "        pair.append(x.string.strip())\n",
    "#         print(x.string.strip())\n",
    "    elif c % 3 == 2:\n",
    "        pair.append(x.string.strip())\n",
    "        rock.append(pair)\n",
    "        pair = []\n",
    "#         print(x.string.strip())\n",
    "    c += 1\n",
    "\n",
    "print(rock[:100])"
   ]
  },
  {
   "cell_type": "markdown",
   "metadata": {},
   "source": [
    "---\n",
    "# HipHop top 100 List"
   ]
  },
  {
   "cell_type": "code",
   "execution_count": 142,
   "metadata": {},
   "outputs": [],
   "source": [
    "response = requests.get('https://www.rollingstone.com/music/music-lists/100-greatest-hip-hop-songs-of-all-time-105784/ltrimm-cars-with-the-boom-106252/')"
   ]
  },
  {
   "cell_type": "code",
   "execution_count": 143,
   "metadata": {},
   "outputs": [],
   "source": [
    "soup = BeautifulSoup(response.text, 'html.parser')"
   ]
  },
  {
   "cell_type": "code",
   "execution_count": 149,
   "metadata": {},
   "outputs": [
    {
     "data": {
      "text/plain": [
       "[<h3 class=\"c-card__heading t-bold t-semibold\">\n",
       " \t\n",
       " \tThe 50 Greatest Rock Memoirs of All Time</h3>,\n",
       " <h3 class=\"c-card__heading t-bold t-semibold\">\n",
       " \t\n",
       " \tThe Unraveling of America</h3>,\n",
       " <h3 class=\"c-card__heading t-bold t-semibold\">\n",
       " \t\n",
       " \tThe Beatles Breakup And Why Their Music Still Matters 50 Years Later</h3>,\n",
       " <h3 class=\"c-section-header__heading t-bold t-bold--condensed\">\n",
       " \t\t\t\tNewswire\t\t\t</h3>,\n",
       " <h3 class=\"c-card__heading t-bold\">\n",
       " \t\t\t\t\tBette Midler Sings ‘Goodbye Donnie’ in Comic Farewell-Trump Video\t\t\t\t</h3>,\n",
       " <h3 class=\"c-card__heading t-bold\">\n",
       " \t\t\t\t\tKamala Harris’ Niece Meena Wears Coach and Ulla Johnson at Inauguration\t\t\t\t</h3>,\n",
       " <h3 class=\"c-card__heading t-bold\">\n",
       " \t\t\t\t\tYouTube Pioneer Toby Turner Lists L.A. House\t\t\t\t</h3>,\n",
       " <h3 class=\"c-card__heading t-bold\">\n",
       " \t\t\t\t\tHow Julia Hart and Jordan Horowitz Fixed the Woman Problem in ’70s Crime Dramas with ‘I’m Your Woman’\t\t\t\t</h3>,\n",
       " <h3 class=\"c-card__heading t-bold\">\n",
       " \t\t\t\t\tNFL Graybeards Brady, Brees Win the Weekend Ratings Battle Over Young Guns\t\t\t\t</h3>]"
      ]
     },
     "execution_count": 149,
     "metadata": {},
     "output_type": "execute_result"
    }
   ],
   "source": [
    "soup.find_all('h3')"
   ]
  },
  {
   "cell_type": "code",
   "execution_count": null,
   "metadata": {},
   "outputs": [],
   "source": []
  }
 ],
 "metadata": {
  "kernelspec": {
   "display_name": "Python 3",
   "language": "python",
   "name": "python3"
  },
  "language_info": {
   "codemirror_mode": {
    "name": "ipython",
    "version": 3
   },
   "file_extension": ".py",
   "mimetype": "text/x-python",
   "name": "python",
   "nbconvert_exporter": "python",
   "pygments_lexer": "ipython3",
   "version": "3.7.4"
  }
 },
 "nbformat": 4,
 "nbformat_minor": 4
}
