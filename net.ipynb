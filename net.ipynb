{
 "cells": [
  {
   "cell_type": "code",
   "execution_count": 73,
   "id": "polished-comparison",
   "metadata": {},
   "outputs": [
    {
     "name": "stdout",
     "output_type": "stream",
     "text": [
      "Index(['valence', 'year', 'acousticness', 'artists', 'danceability',\n",
      "       'duration_ms', 'energy', 'explicit', 'id', 'instrumentalness', 'key',\n",
      "       'liveness', 'loudness', 'mode', 'name', 'popularity', 'release_date',\n",
      "       'speechiness', 'tempo'],\n",
      "      dtype='object')\n"
     ]
    }
   ],
   "source": [
    "import pandas as pd\n",
    "import numpy as np\n",
    "import plotly.express as px\n",
    "df = pd.read_csv('data.csv')\n",
    "print(df.columns)"
   ]
  },
  {
   "cell_type": "code",
   "execution_count": 74,
   "id": "employed-leone",
   "metadata": {},
   "outputs": [
    {
     "name": "stdout",
     "output_type": "stream",
     "text": [
      "The tensorboard extension is already loaded. To reload it, use:\n",
      "  %reload_ext tensorboard\n"
     ]
    },
    {
     "data": {
      "text/html": [
       "\n",
       "        <iframe\n",
       "            width=\"100%\"\n",
       "            height=\"800\"\n",
       "            src=\"http://localhost:6006\"\n",
       "            frameborder=\"0\"\n",
       "            allowfullscreen\n",
       "        ></iframe>\n",
       "        "
      ],
      "text/plain": [
       "<IPython.lib.display.IFrame at 0x7f502d3a9048>"
      ]
     },
     "metadata": {},
     "output_type": "display_data"
    }
   ],
   "source": [
    "%load_ext tensorboard\n",
    "import datetime\n",
    "log_dir = \"logs/fit/\" + datetime.datetime.now().strftime(\"%Y%m%d-%H%M%S\")\n",
    "tensorboard_callback = tf.keras.callbacks.TensorBoard(log_dir=log_dir, histogram_freq=1)\n",
    "%tensorboard --logdir logs/fit"
   ]
  },
  {
   "cell_type": "code",
   "execution_count": 2,
   "id": "documentary-threat",
   "metadata": {},
   "outputs": [
    {
     "name": "stdout",
     "output_type": "stream",
     "text": [
      "1\n",
      "Toni Braxton\n"
     ]
    }
   ],
   "source": [
    "filtered_df = df.copy()\n",
    "filtered_df['artists'] = filtered_df['artists'].apply(lambda x: x[1:-1].replace(\"'\", \"\"))\n",
    "art = filtered_df['artists'].sample()\n",
    "print(len(art))\n",
    "print(art.values[0])#.index[0]"
   ]
  },
  {
   "cell_type": "code",
   "execution_count": 3,
   "id": "threaded-participation",
   "metadata": {},
   "outputs": [],
   "source": [
    "filtered_df = filtered_df.drop(columns=['id']) #we dont need the spotify id's \n",
    "# remastered_list = [x for x in filtered_df.name if \"remaster\" in x.lower()]\n",
    "# len(remastered_list)\n",
    "# filtered_df = filtered_df[~filtered_df.name.isin(remastered_list)] # all the songs without the remastered \n",
    "\n",
    "# #are there any songs with the named remaster im discriminating against?\n",
    "# #should i just get rid of everything remastered?\n",
    "\n",
    "# skits_list = [x for x in filtered_df.name if \"skit\" in x.lower()]\n",
    "# filtered_df = filtered_df[~filtered_df.name.isin(skits_list)]\n",
    "# #28 skits a few are actual songs but idt they will be impactful\n",
    "\n",
    "# demo_list = [x for x in filtered_df.name if \"demo \" in x.lower()]\n",
    "# filtered_df = filtered_df[~filtered_df.name.isin(demo_list)]"
   ]
  },
  {
   "cell_type": "code",
   "execution_count": 4,
   "id": "bronze-copper",
   "metadata": {},
   "outputs": [],
   "source": [
    "filenames = ['classical_idx.csv','hip-hop_idx.csv','jazz_idx.csv','metal_idx.csv','reggae_idx.csv','rock_idx.csv']\n",
    "\n",
    "gen = pd.DataFrame(0, index=np.arange(filtered_df.shape[0]),columns=['genera'])\n",
    "\n",
    "#filtered_data['genera'] = \n",
    "for n in filenames:\n",
    "    gen.iloc[pd.read_csv('genera_csv/'+n, header=None).iloc[:,0]] = n[:-8]"
   ]
  },
  {
   "cell_type": "code",
   "execution_count": 5,
   "id": "under-killer",
   "metadata": {},
   "outputs": [],
   "source": [
    "final_df = filtered_df.join(gen)\n",
    "labeled_data = final_df[final_df.genera != 0]\n",
    "unlabeled_data = final_df[final_df.genera == 0]"
   ]
  },
  {
   "cell_type": "code",
   "execution_count": 6,
   "id": "logical-struggle",
   "metadata": {},
   "outputs": [],
   "source": [
    "y = labeled_data.genera\n",
    "features_list = ['valence', 'acousticness', 'danceability', 'duration_ms', 'energy', 'instrumentalness', 'key', 'loudness', 'mode', 'popularity', 'speechiness', 'tempo']\n",
    "X = labeled_data.copy()#[features_list].copy()\n",
    "Z = unlabeled_data.copy()#[features_list].copy()"
   ]
  },
  {
   "cell_type": "code",
   "execution_count": 38,
   "id": "harmful-farming",
   "metadata": {},
   "outputs": [
    {
     "data": {
      "text/plain": [
       "137       classical\n",
       "229            jazz\n",
       "806            jazz\n",
       "814            jazz\n",
       "1409           jazz\n",
       "            ...    \n",
       "167324       reggae\n",
       "167516       reggae\n",
       "168592         rock\n",
       "169414         jazz\n",
       "169454    classical\n",
       "Name: genera, Length: 606, dtype: object"
      ]
     },
     "execution_count": 38,
     "metadata": {},
     "output_type": "execute_result"
    }
   ],
   "source": [
    "from sklearn.preprocessing import MinMaxScaler\n",
    "to_norm_list = ['duration_ms', 'key','loudness', 'popularity', 'tempo']\n",
    "\n",
    "scaler = MinMaxScaler(feature_range=(0, 1))\n",
    "d = scaler.fit_transform(X[to_norm_list])\n",
    "scaled_df = pd.DataFrame(d, columns=to_norm_list)\n",
    "scaled_df.head()\n",
    "X.drop(to_norm_list, axis=1,inplace=True)\n",
    "X = X.reset_index(drop=True)\n",
    "X[to_norm_list] = scaled_df\n",
    "y\n",
    "\n"
   ]
  },
  {
   "cell_type": "code",
   "execution_count": 39,
   "id": "correct-supervision",
   "metadata": {},
   "outputs": [
    {
     "data": {
      "text/plain": [
       "13908     hip-hop\n",
       "15635      reggae\n",
       "10807        rock\n",
       "10956       metal\n",
       "12113     hip-hop\n",
       "33439     hip-hop\n",
       "10857        rock\n",
       "51652     hip-hop\n",
       "8624         rock\n",
       "29922        rock\n",
       "9842         rock\n",
       "66368      reggae\n",
       "13630       metal\n",
       "8450         jazz\n",
       "14574     hip-hop\n",
       "6421         jazz\n",
       "6874         jazz\n",
       "54783        jazz\n",
       "14021     hip-hop\n",
       "149886       jazz\n",
       "Name: genera, dtype: object"
      ]
     },
     "execution_count": 39,
     "metadata": {},
     "output_type": "execute_result"
    }
   ],
   "source": [
    "y.sample(20)"
   ]
  },
  {
   "cell_type": "code",
   "execution_count": 45,
   "id": "surprised-diesel",
   "metadata": {},
   "outputs": [],
   "source": [
    "y = pd.get_dummies(y)"
   ]
  },
  {
   "cell_type": "code",
   "execution_count": 46,
   "id": "established-halifax",
   "metadata": {},
   "outputs": [],
   "source": [
    "from sklearn.model_selection import train_test_split\n",
    "X_train, X_test, y_train, y_test = train_test_split(X[features_list], y,test_size=0.2)\n"
   ]
  },
  {
   "cell_type": "raw",
   "id": "embedded-insider",
   "metadata": {},
   "source": [
    "d = scaler.fit_transform(Z[to_norm_list])\n",
    "scaled_df = pd.DataFrame(d, columns=to_norm_list)\n",
    "scaled_df.head()\n",
    "Z.drop(to_norm_list, axis=1,inplace=True)\n",
    "Z = Z.reset_index(drop=True)\n",
    "Z[to_norm_list] = scaled_df\n",
    "Z"
   ]
  },
  {
   "cell_type": "code",
   "execution_count": 60,
   "id": "modular-mainland",
   "metadata": {},
   "outputs": [
    {
     "name": "stdout",
     "output_type": "stream",
     "text": [
      "Model: \"sequential_9\"\n",
      "_________________________________________________________________\n",
      "Layer (type)                 Output Shape              Param #   \n",
      "=================================================================\n",
      "dense_17 (Dense)             (None, 6)                 78        \n",
      "_________________________________________________________________\n",
      "dense_18 (Dense)             (None, 6)                 42        \n",
      "=================================================================\n",
      "Total params: 120\n",
      "Trainable params: 120\n",
      "Non-trainable params: 0\n",
      "_________________________________________________________________\n"
     ]
    }
   ],
   "source": [
    "import tensorflow as tf\n",
    "from tensorflow.keras import layers\n",
    "\n",
    "model = tf.keras.Sequential()\n",
    "model.add(layers.Dense(units=6, input_shape=(len(features_list),)))\n",
    "model.add(layers.Dense(units=6))\n",
    "model.compile(loss='categorical_crossentropy', optimizer='adam', metrics=['categorical_accuracy', 'mse'])\n",
    "model.summary()"
   ]
  },
  {
   "cell_type": "code",
   "execution_count": 70,
   "id": "greenhouse-consensus",
   "metadata": {},
   "outputs": [
    {
     "name": "stdout",
     "output_type": "stream",
     "text": [
      "Train on 484 samples, validate on 122 samples\n",
      "Epoch 1/20\n",
      "484/484 [==============================] - 0s 64us/sample - loss: 4.5747 - categorical_accuracy: 0.3058 - mean_squared_error: 0.2091 - val_loss: 4.6435 - val_categorical_accuracy: 0.3115 - val_mean_squared_error: 0.2165\n",
      "Epoch 2/20\n",
      "484/484 [==============================] - 0s 70us/sample - loss: 4.4628 - categorical_accuracy: 0.2955 - mean_squared_error: 0.2101 - val_loss: 4.6013 - val_categorical_accuracy: 0.2705 - val_mean_squared_error: 0.2172\n",
      "Epoch 3/20\n",
      "484/484 [==============================] - 0s 68us/sample - loss: 4.4566 - categorical_accuracy: 0.2934 - mean_squared_error: 0.2110 - val_loss: 4.5021 - val_categorical_accuracy: 0.2623 - val_mean_squared_error: 0.2180\n",
      "Epoch 4/20\n",
      "484/484 [==============================] - 0s 59us/sample - loss: 4.3929 - categorical_accuracy: 0.2913 - mean_squared_error: 0.2118 - val_loss: 4.6836 - val_categorical_accuracy: 0.2623 - val_mean_squared_error: 0.2189\n",
      "Epoch 5/20\n",
      "484/484 [==============================] - 0s 65us/sample - loss: 4.3447 - categorical_accuracy: 0.2955 - mean_squared_error: 0.2117 - val_loss: 4.5011 - val_categorical_accuracy: 0.2705 - val_mean_squared_error: 0.2182\n",
      "Epoch 6/20\n",
      "484/484 [==============================] - 0s 67us/sample - loss: 4.4466 - categorical_accuracy: 0.2996 - mean_squared_error: 0.2121 - val_loss: 4.3738 - val_categorical_accuracy: 0.3197 - val_mean_squared_error: 0.2165\n",
      "Epoch 7/20\n",
      "484/484 [==============================] - 0s 69us/sample - loss: 4.5885 - categorical_accuracy: 0.3079 - mean_squared_error: 0.2056 - val_loss: 4.3567 - val_categorical_accuracy: 0.2623 - val_mean_squared_error: 0.2121\n",
      "Epoch 8/20\n",
      "484/484 [==============================] - 0s 70us/sample - loss: 4.3707 - categorical_accuracy: 0.2893 - mean_squared_error: 0.2054 - val_loss: 3.9789 - val_categorical_accuracy: 0.2459 - val_mean_squared_error: 0.2174\n",
      "Epoch 9/20\n",
      "484/484 [==============================] - 0s 68us/sample - loss: 4.2315 - categorical_accuracy: 0.2831 - mean_squared_error: 0.2072 - val_loss: 4.0837 - val_categorical_accuracy: 0.2459 - val_mean_squared_error: 0.2187\n",
      "Epoch 10/20\n",
      "484/484 [==============================] - 0s 62us/sample - loss: 4.3366 - categorical_accuracy: 0.2789 - mean_squared_error: 0.2089 - val_loss: 4.0670 - val_categorical_accuracy: 0.2459 - val_mean_squared_error: 0.2186\n",
      "Epoch 11/20\n",
      "484/484 [==============================] - 0s 66us/sample - loss: 4.3128 - categorical_accuracy: 0.2810 - mean_squared_error: 0.2084 - val_loss: 4.1672 - val_categorical_accuracy: 0.2459 - val_mean_squared_error: 0.2195\n",
      "Epoch 12/20\n",
      "484/484 [==============================] - 0s 68us/sample - loss: 4.3852 - categorical_accuracy: 0.2789 - mean_squared_error: 0.2107 - val_loss: 4.1125 - val_categorical_accuracy: 0.2459 - val_mean_squared_error: 0.2207\n",
      "Epoch 13/20\n",
      "484/484 [==============================] - 0s 69us/sample - loss: 4.4390 - categorical_accuracy: 0.2810 - mean_squared_error: 0.2125 - val_loss: 4.1215 - val_categorical_accuracy: 0.2295 - val_mean_squared_error: 0.2219\n",
      "Epoch 14/20\n",
      "484/484 [==============================] - 0s 71us/sample - loss: 4.3737 - categorical_accuracy: 0.2789 - mean_squared_error: 0.2127 - val_loss: 4.3663 - val_categorical_accuracy: 0.2377 - val_mean_squared_error: 0.2215\n",
      "Epoch 15/20\n",
      "484/484 [==============================] - 0s 65us/sample - loss: 4.3655 - categorical_accuracy: 0.2831 - mean_squared_error: 0.2132 - val_loss: 4.3732 - val_categorical_accuracy: 0.2377 - val_mean_squared_error: 0.2220\n",
      "Epoch 16/20\n",
      "484/484 [==============================] - 0s 67us/sample - loss: 4.3283 - categorical_accuracy: 0.2851 - mean_squared_error: 0.2131 - val_loss: 4.3624 - val_categorical_accuracy: 0.2295 - val_mean_squared_error: 0.2217\n",
      "Epoch 17/20\n",
      "484/484 [==============================] - 0s 71us/sample - loss: 4.3252 - categorical_accuracy: 0.2851 - mean_squared_error: 0.2126 - val_loss: 4.3580 - val_categorical_accuracy: 0.2213 - val_mean_squared_error: 0.2216\n",
      "Epoch 18/20\n",
      "484/484 [==============================] - 0s 74us/sample - loss: 4.3223 - categorical_accuracy: 0.2810 - mean_squared_error: 0.2128 - val_loss: 4.3614 - val_categorical_accuracy: 0.2213 - val_mean_squared_error: 0.2219\n",
      "Epoch 19/20\n",
      "484/484 [==============================] - 0s 73us/sample - loss: 4.2875 - categorical_accuracy: 0.2810 - mean_squared_error: 0.2131 - val_loss: 4.3640 - val_categorical_accuracy: 0.2295 - val_mean_squared_error: 0.2220\n",
      "Epoch 20/20\n",
      "484/484 [==============================] - 0s 75us/sample - loss: 4.2852 - categorical_accuracy: 0.2810 - mean_squared_error: 0.2127 - val_loss: 4.3577 - val_categorical_accuracy: 0.2377 - val_mean_squared_error: 0.2217\n"
     ]
    }
   ],
   "source": [
    "history = model.fit(X_train, y_train, validation_data=(X_test, y_test), epochs=20, batch_size=20)"
   ]
  },
  {
   "cell_type": "code",
   "execution_count": 71,
   "id": "hollow-roulette",
   "metadata": {},
   "outputs": [
    {
     "name": "stdout",
     "output_type": "stream",
     "text": [
      "Minimum Validation Loss: 3.9789\n"
     ]
    },
    {
     "data": {
      "image/png": "[encoded data removed]",
      "text/plain": [
       "<Figure size 432x288 with 1 Axes>"
      ]
     },
     "metadata": {
      "needs_background": "light"
     },
     "output_type": "display_data"
    }
   ],
   "source": [
    "history_df = pd.DataFrame(history.history)\n",
    "history_df.loc[0:, ['loss', 'val_loss']].plot()\n",
    "print(\"Minimum Validation Loss: {:0.4f}\".format(history_df['val_loss'].min()));"
   ]
  },
  {
   "cell_type": "code",
   "execution_count": 72,
   "id": "continued-christmas",
   "metadata": {},
   "outputs": [
    {
     "data": {
      "image/png": "[encoded data removed]",
      "text/plain": [
       "<Figure size 432x288 with 1 Axes>"
      ]
     },
     "metadata": {
      "needs_background": "light"
     },
     "output_type": "display_data"
    }
   ],
   "source": [
    "from matplotlib import pyplot as plt\n",
    "plt.plot(history.history['categorical_accuracy'])\n",
    "plt.plot(history.history['val_categorical_accuracy'])\n",
    "plt.title('model accuracy')\n",
    "plt.ylabel('accuracy')\n",
    "plt.xlabel('epoch')\n",
    "plt.legend(['train', 'val'], loc='upper left')\n",
    "plt.show()"
   ]
  },
  {
   "cell_type": "code",
   "execution_count": 64,
   "id": "young-clark",
   "metadata": {},
   "outputs": [
    {
     "data": {
      "text/plain": [
       "{'loss': [4.725958106931576,\n",
       "  3.955738989774846,\n",
       "  3.6987830351206883,\n",
       "  3.4017083605458915,\n",
       "  3.224616606373432,\n",
       "  2.9364629451893576,\n",
       "  2.907416065862356,\n",
       "  2.7876831046805894,\n",
       "  2.807782235224385,\n",
       "  2.7284631098597503,\n",
       "  2.7745862085957174,\n",
       "  2.782978721886627,\n",
       "  2.8290299610658125,\n",
       "  2.7428568975984557,\n",
       "  2.7089156927156055,\n",
       "  2.834513332232956,\n",
       "  2.8336462078015665,\n",
       "  3.4427546095256965,\n",
       "  3.5095048093598735,\n",
       "  3.5865176334854],\n",
       " 'categorical_accuracy': [0.17561984,\n",
       "  0.17355372,\n",
       "  0.16115703,\n",
       "  0.1694215,\n",
       "  0.16322315,\n",
       "  0.1694215,\n",
       "  0.1714876,\n",
       "  0.1714876,\n",
       "  0.15289256,\n",
       "  0.1570248,\n",
       "  0.16322315,\n",
       "  0.16322315,\n",
       "  0.16115703,\n",
       "  0.18181819,\n",
       "  0.17975207,\n",
       "  0.17975207,\n",
       "  0.18181819,\n",
       "  0.16735537,\n",
       "  0.1570248,\n",
       "  0.17561984],\n",
       " 'mean_squared_error': [0.21311386,\n",
       "  0.20169346,\n",
       "  0.19712049,\n",
       "  0.1964429,\n",
       "  0.19599873,\n",
       "  0.19662441,\n",
       "  0.19776359,\n",
       "  0.19740868,\n",
       "  0.19498242,\n",
       "  0.19580486,\n",
       "  0.19502014,\n",
       "  0.19330871,\n",
       "  0.19225793,\n",
       "  0.19411731,\n",
       "  0.19442053,\n",
       "  0.19206819,\n",
       "  0.19167463,\n",
       "  0.19065605,\n",
       "  0.19121914,\n",
       "  0.19063117],\n",
       " 'val_loss': [3.8229170392771237,\n",
       "  3.9005158983293127,\n",
       "  3.362612825925233,\n",
       "  3.124948868986036,\n",
       "  2.9297397566623373,\n",
       "  2.786193988362297,\n",
       "  2.6115598365908763,\n",
       "  2.475720714350216,\n",
       "  2.451157929467373,\n",
       "  2.3436508960411198,\n",
       "  2.515338487312442,\n",
       "  2.6240338731984623,\n",
       "  2.613399906236617,\n",
       "  2.5719472463013697,\n",
       "  2.470046586677676,\n",
       "  2.6651277053551596,\n",
       "  3.7971080170303093,\n",
       "  3.9022490157455696,\n",
       "  3.3585677498676736,\n",
       "  3.3814740259139264],\n",
       " 'val_categorical_accuracy': [0.22131148,\n",
       "  0.18032786,\n",
       "  0.18032786,\n",
       "  0.20491803,\n",
       "  0.20491803,\n",
       "  0.20491803,\n",
       "  0.20491803,\n",
       "  0.19672132,\n",
       "  0.1557377,\n",
       "  0.16393442,\n",
       "  0.16393442,\n",
       "  0.18852459,\n",
       "  0.18852459,\n",
       "  0.21311475,\n",
       "  0.22131148,\n",
       "  0.21311475,\n",
       "  0.13934426,\n",
       "  0.13934426,\n",
       "  0.14754099,\n",
       "  0.13934426],\n",
       " 'val_mean_squared_error': [0.21599303,\n",
       "  0.21038124,\n",
       "  0.20834088,\n",
       "  0.20812829,\n",
       "  0.20859304,\n",
       "  0.21013477,\n",
       "  0.21079263,\n",
       "  0.21094553,\n",
       "  0.20910518,\n",
       "  0.20992266,\n",
       "  0.20768042,\n",
       "  0.20644249,\n",
       "  0.205515,\n",
       "  0.20956339,\n",
       "  0.20720255,\n",
       "  0.20614909,\n",
       "  0.20216882,\n",
       "  0.20484571,\n",
       "  0.2031637,\n",
       "  0.2014372]}"
      ]
     },
     "execution_count": 64,
     "metadata": {},
     "output_type": "execute_result"
    }
   ],
   "source": [
    "history.history"
   ]
  },
  {
   "cell_type": "code",
   "execution_count": null,
   "id": "ceramic-grammar",
   "metadata": {},
   "outputs": [],
   "source": []
  }
 ],
 "metadata": {
  "kernelspec": {
   "display_name": "Python 3",
   "language": "python",
   "name": "python3"
  },
  "language_info": {
   "codemirror_mode": {
    "name": "ipython",
    "version": 3
   },
   "file_extension": ".py",
   "mimetype": "text/x-python",
   "name": "python",
   "nbconvert_exporter": "python",
   "pygments_lexer": "ipython3",
   "version": "3.6.9"
  }
 },
 "nbformat": 4,
 "nbformat_minor": 5
}
