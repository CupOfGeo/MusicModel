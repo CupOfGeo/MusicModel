{
 "cells": [
  {
   "cell_type": "code",
   "execution_count": 24,
   "id": "other-amateur",
   "metadata": {},
   "outputs": [
    {
     "name": "stdout",
     "output_type": "stream",
     "text": [
      "Index(['valence', 'year', 'acousticness', 'artists', 'danceability',\n",
      "       'duration_ms', 'energy', 'explicit', 'id', 'instrumentalness', 'key',\n",
      "       'liveness', 'loudness', 'mode', 'name', 'popularity', 'release_date',\n",
      "       'speechiness', 'tempo'],\n",
      "      dtype='object')\n"
     ]
    }
   ],
   "source": [
    "import pandas as pd\n",
    "import numpy as np\n",
    "import plotly.express as px\n",
    "df = pd.read_csv('data.csv')\n",
    "print(df.columns)"
   ]
  },
  {
   "cell_type": "code",
   "execution_count": 25,
   "id": "italic-startup",
   "metadata": {},
   "outputs": [
    {
     "name": "stdout",
     "output_type": "stream",
     "text": [
      "The tensorboard extension is already loaded. To reload it, use:\n",
      "  %reload_ext tensorboard\n"
     ]
    }
   ],
   "source": [
    "%load_ext tensorboard\n",
    "import datetime\n",
    "import tensorflow as tf\n",
    "from tensorflow.keras import layers\n",
    "log_dir = \"log/fit/\" + datetime.datetime.now().strftime(\"%Y%m%d-%H%M%S\")\n",
    "tensorboard_callback = tf.keras.callbacks.TensorBoard(log_dir=log_dir, histogram_freq=1)\n",
    "#%tensorboard --logdir logs/fit"
   ]
  },
  {
   "cell_type": "code",
   "execution_count": 26,
   "id": "naked-sister",
   "metadata": {},
   "outputs": [
    {
     "name": "stdout",
     "output_type": "stream",
     "text": [
      "1\n",
      "Lil Tjay\n"
     ]
    }
   ],
   "source": [
    "filtered_df = df.copy()\n",
    "filtered_df['artists'] = filtered_df['artists'].apply(lambda x: x[1:-1].replace(\"'\", \"\"))\n",
    "art = filtered_df['artists'].sample()\n",
    "print(len(art))\n",
    "print(art.values[0])#.index[0]"
   ]
  },
  {
   "cell_type": "code",
   "execution_count": 27,
   "id": "alpha-rhythm",
   "metadata": {},
   "outputs": [],
   "source": [
    "filtered_df = filtered_df.drop(columns=['id']) #we dont need the spotify id's \n",
    "# remastered_list = [x for x in filtered_df.name if \"remaster\" in x.lower()]\n",
    "# len(remastered_list)\n",
    "# filtered_df = filtered_df[~filtered_df.name.isin(remastered_list)] # all the songs without the remastered \n",
    "\n",
    "# #are there any songs with the named remaster im discriminating against?\n",
    "# #should i just get rid of everything remastered?\n",
    "\n",
    "# skits_list = [x for x in filtered_df.name if \"skit\" in x.lower()]\n",
    "# filtered_df = filtered_df[~filtered_df.name.isin(skits_list)]\n",
    "# #28 skits a few are actual songs but idt they will be impactful\n",
    "\n",
    "# demo_list = [x for x in filtered_df.name if \"demo \" in x.lower()]\n",
    "# filtered_df = filtered_df[~filtered_df.name.isin(demo_list)]"
   ]
  },
  {
   "cell_type": "code",
   "execution_count": 28,
   "id": "adjacent-calgary",
   "metadata": {},
   "outputs": [],
   "source": [
    "filenames = ['classical_idx.csv','hip-hop_idx.csv','jazz_idx.csv','metal_idx.csv','reggae_idx.csv','rock_idx.csv']\n",
    "\n",
    "gen = pd.DataFrame(0, index=np.arange(filtered_df.shape[0]),columns=['genera'])\n",
    "\n",
    "#filtered_data['genera'] = \n",
    "for n in filenames:\n",
    "    gen.iloc[pd.read_csv('genera_csv/'+n, header=None).iloc[:,0]] = n[:-8]"
   ]
  },
  {
   "cell_type": "code",
   "execution_count": 29,
   "id": "demonstrated-number",
   "metadata": {},
   "outputs": [],
   "source": [
    "final_df = filtered_df.join(gen)\n",
    "labeled_data = final_df[final_df.genera != 0]\n",
    "unlabeled_data = final_df[final_df.genera == 0]"
   ]
  },
  {
   "cell_type": "code",
   "execution_count": 30,
   "id": "laughing-bangkok",
   "metadata": {},
   "outputs": [],
   "source": [
    "y = labeled_data.genera\n",
    "features_list = ['valence', 'acousticness', 'danceability', 'duration_ms', 'energy', 'instrumentalness', 'key', 'loudness', 'mode', 'popularity', 'speechiness', 'tempo']\n",
    "X = labeled_data.copy()#[features_list].copy()\n",
    "Z = unlabeled_data.copy()#[features_list].copy()"
   ]
  },
  {
   "cell_type": "code",
   "execution_count": 31,
   "id": "durable-fence",
   "metadata": {},
   "outputs": [
    {
     "data": {
      "text/plain": [
       "137       classical\n",
       "229            jazz\n",
       "806            jazz\n",
       "814            jazz\n",
       "1409           jazz\n",
       "            ...    \n",
       "167324       reggae\n",
       "167516       reggae\n",
       "168592         rock\n",
       "169414         jazz\n",
       "169454    classical\n",
       "Name: genera, Length: 606, dtype: object"
      ]
     },
     "execution_count": 31,
     "metadata": {},
     "output_type": "execute_result"
    }
   ],
   "source": [
    "from sklearn.preprocessing import MinMaxScaler\n",
    "to_norm_list = ['duration_ms', 'key','loudness', 'popularity', 'tempo']\n",
    "\n",
    "scaler = MinMaxScaler(feature_range=(0, 1))\n",
    "d = scaler.fit_transform(X[to_norm_list])\n",
    "scaled_df = pd.DataFrame(d, columns=to_norm_list)\n",
    "scaled_df.head()\n",
    "X.drop(to_norm_list, axis=1,inplace=True)\n",
    "X = X.reset_index(drop=True)\n",
    "X[to_norm_list] = scaled_df\n",
    "y\n",
    "\n"
   ]
  },
  {
   "cell_type": "code",
   "execution_count": 32,
   "id": "hired-occasion",
   "metadata": {},
   "outputs": [
    {
     "data": {
      "text/plain": [
       "11150        reggae\n",
       "35007          rock\n",
       "48913         metal\n",
       "8912           rock\n",
       "28557        reggae\n",
       "11236          rock\n",
       "7263           jazz\n",
       "10857          rock\n",
       "86024     classical\n",
       "11007          rock\n",
       "14025         metal\n",
       "147541       reggae\n",
       "11640        reggae\n",
       "16446       hip-hop\n",
       "30073        reggae\n",
       "9620           rock\n",
       "12239         metal\n",
       "7059           jazz\n",
       "31341          rock\n",
       "10412          rock\n",
       "Name: genera, dtype: object"
      ]
     },
     "execution_count": 32,
     "metadata": {},
     "output_type": "execute_result"
    }
   ],
   "source": [
    "y.sample(20)"
   ]
  },
  {
   "cell_type": "code",
   "execution_count": 33,
   "id": "provincial-sunrise",
   "metadata": {},
   "outputs": [],
   "source": [
    "y = pd.get_dummies(y)"
   ]
  },
  {
   "cell_type": "code",
   "execution_count": 34,
   "id": "israeli-showcase",
   "metadata": {},
   "outputs": [],
   "source": [
    "from sklearn.model_selection import train_test_split\n",
    "X_train, X_test, y_train, y_test = train_test_split(X[features_list], y,test_size=0.2)\n"
   ]
  },
  {
   "cell_type": "raw",
   "id": "competitive-prospect",
   "metadata": {},
   "source": [
    "d = scaler.fit_transform(Z[to_norm_list])\n",
    "scaled_df = pd.DataFrame(d, columns=to_norm_list)\n",
    "scaled_df.head()\n",
    "Z.drop(to_norm_list, axis=1,inplace=True)\n",
    "Z = Z.reset_index(drop=True)\n",
    "Z[to_norm_list] = scaled_df\n",
    "Z"
   ]
  },
  {
   "cell_type": "code",
   "execution_count": 35,
   "id": "dated-pillow",
   "metadata": {},
   "outputs": [
    {
     "name": "stdout",
     "output_type": "stream",
     "text": [
      "Model: \"sequential_1\"\n",
      "_________________________________________________________________\n",
      "Layer (type)                 Output Shape              Param #   \n",
      "=================================================================\n",
      "dense_2 (Dense)              (None, 6)                 78        \n",
      "_________________________________________________________________\n",
      "dense_3 (Dense)              (None, 6)                 42        \n",
      "=================================================================\n",
      "Total params: 120\n",
      "Trainable params: 120\n",
      "Non-trainable params: 0\n",
      "_________________________________________________________________\n"
     ]
    }
   ],
   "source": [
    "\n",
    "\n",
    "model = tf.keras.Sequential()\n",
    "model.add(layers.Dense(units=6, input_shape=(len(features_list),)))\n",
    "model.add(layers.Dense(units=6))\n",
    "model.compile(loss='categorical_crossentropy', optimizer='adam', metrics=['categorical_accuracy', 'mse'])\n",
    "model.summary()"
   ]
  },
  {
   "cell_type": "code",
   "execution_count": 36,
   "id": "later-actor",
   "metadata": {},
   "outputs": [
    {
     "name": "stdout",
     "output_type": "stream",
     "text": [
      "Train on 484 samples, validate on 122 samples\n",
      "Epoch 1/20\n",
      "484/484 [==============================] - 0s 277us/sample - loss: 8.7594 - categorical_accuracy: 0.3388 - mean_squared_error: 0.3241 - val_loss: 8.6719 - val_categorical_accuracy: 0.3033 - val_mean_squared_error: 0.3518\n",
      "Epoch 2/20\n",
      "484/484 [==============================] - 0s 68us/sample - loss: 7.6404 - categorical_accuracy: 0.2645 - mean_squared_error: 0.3666 - val_loss: 7.8000 - val_categorical_accuracy: 0.2623 - val_mean_squared_error: 0.3763\n",
      "Epoch 3/20\n",
      "484/484 [==============================] - 0s 67us/sample - loss: 7.0400 - categorical_accuracy: 0.2066 - mean_squared_error: 0.3855 - val_loss: 7.3975 - val_categorical_accuracy: 0.1967 - val_mean_squared_error: 0.3856\n",
      "Epoch 4/20\n",
      "484/484 [==============================] - 0s 66us/sample - loss: 6.4945 - categorical_accuracy: 0.1405 - mean_squared_error: 0.4122 - val_loss: 6.3328 - val_categorical_accuracy: 0.1557 - val_mean_squared_error: 0.4201\n",
      "Epoch 5/20\n",
      "484/484 [==============================] - 0s 69us/sample - loss: 5.1122 - categorical_accuracy: 0.1219 - mean_squared_error: 0.4647 - val_loss: 5.2641 - val_categorical_accuracy: 0.1475 - val_mean_squared_error: 0.4818\n",
      "Epoch 6/20\n",
      "484/484 [==============================] - 0s 67us/sample - loss: 3.8031 - categorical_accuracy: 0.1178 - mean_squared_error: 0.5359 - val_loss: 4.0301 - val_categorical_accuracy: 0.1475 - val_mean_squared_error: 0.5354\n",
      "Epoch 7/20\n",
      "484/484 [==============================] - 0s 63us/sample - loss: 3.6715 - categorical_accuracy: 0.1178 - mean_squared_error: 0.5434 - val_loss: 3.6635 - val_categorical_accuracy: 0.1475 - val_mean_squared_error: 0.5114\n",
      "Epoch 8/20\n",
      "484/484 [==============================] - 0s 63us/sample - loss: 3.7982 - categorical_accuracy: 0.1178 - mean_squared_error: 0.5399 - val_loss: 3.9480 - val_categorical_accuracy: 0.1475 - val_mean_squared_error: 0.5135\n",
      "Epoch 9/20\n",
      "484/484 [==============================] - 0s 66us/sample - loss: 4.0531 - categorical_accuracy: 0.1178 - mean_squared_error: 0.5439 - val_loss: 4.5162 - val_categorical_accuracy: 0.1475 - val_mean_squared_error: 0.5131\n",
      "Epoch 10/20\n",
      "484/484 [==============================] - 0s 63us/sample - loss: 5.2795 - categorical_accuracy: 0.1178 - mean_squared_error: 0.5466 - val_loss: 5.7662 - val_categorical_accuracy: 0.1475 - val_mean_squared_error: 0.5141\n",
      "Epoch 11/20\n",
      "484/484 [==============================] - 0s 69us/sample - loss: 6.6588 - categorical_accuracy: 0.1178 - mean_squared_error: 0.5448 - val_loss: 6.6286 - val_categorical_accuracy: 0.1475 - val_mean_squared_error: 0.5089\n",
      "Epoch 12/20\n",
      "484/484 [==============================] - 0s 67us/sample - loss: 8.0406 - categorical_accuracy: 0.1178 - mean_squared_error: 0.5386 - val_loss: 7.9201 - val_categorical_accuracy: 0.1475 - val_mean_squared_error: 0.4993\n",
      "Epoch 13/20\n",
      "484/484 [==============================] - 0s 63us/sample - loss: 8.7022 - categorical_accuracy: 0.1178 - mean_squared_error: 0.5311 - val_loss: 8.5624 - val_categorical_accuracy: 0.1475 - val_mean_squared_error: 0.4969\n",
      "Epoch 14/20\n",
      "484/484 [==============================] - 0s 72us/sample - loss: 8.8203 - categorical_accuracy: 0.1178 - mean_squared_error: 0.5311 - val_loss: 9.8107 - val_categorical_accuracy: 0.1475 - val_mean_squared_error: 0.4853\n",
      "Epoch 15/20\n",
      "484/484 [==============================] - 0s 69us/sample - loss: 9.5402 - categorical_accuracy: 0.1157 - mean_squared_error: 0.5081 - val_loss: 10.2892 - val_categorical_accuracy: 0.1475 - val_mean_squared_error: 0.4524\n",
      "Epoch 16/20\n",
      "484/484 [==============================] - 0s 64us/sample - loss: 9.9682 - categorical_accuracy: 0.1157 - mean_squared_error: 0.4795 - val_loss: 9.6765 - val_categorical_accuracy: 0.1475 - val_mean_squared_error: 0.4502\n",
      "Epoch 17/20\n",
      "484/484 [==============================] - 0s 74us/sample - loss: 9.3392 - categorical_accuracy: 0.1157 - mean_squared_error: 0.4720 - val_loss: 8.9974 - val_categorical_accuracy: 0.1475 - val_mean_squared_error: 0.4088\n",
      "Epoch 18/20\n",
      "484/484 [==============================] - 0s 65us/sample - loss: 9.2317 - categorical_accuracy: 0.1157 - mean_squared_error: 0.4254 - val_loss: 8.0998 - val_categorical_accuracy: 0.1475 - val_mean_squared_error: 0.3509\n",
      "Epoch 19/20\n",
      "484/484 [==============================] - 0s 73us/sample - loss: 8.1972 - categorical_accuracy: 0.1095 - mean_squared_error: 0.3670 - val_loss: 6.7259 - val_categorical_accuracy: 0.1393 - val_mean_squared_error: 0.3027\n",
      "Epoch 20/20\n",
      "484/484 [==============================] - 0s 68us/sample - loss: 7.3854 - categorical_accuracy: 0.1302 - mean_squared_error: 0.3226 - val_loss: 5.2988 - val_categorical_accuracy: 0.1967 - val_mean_squared_error: 0.2617\n"
     ]
    }
   ],
   "source": [
    "history = model.fit(X_train, y_train, validation_data=(X_test, y_test), epochs=20, batch_size=20, callbacks=[tensorboard_callback])"
   ]
  },
  {
   "cell_type": "code",
   "execution_count": 37,
   "id": "above-symposium",
   "metadata": {},
   "outputs": [
    {
     "name": "stdout",
     "output_type": "stream",
     "text": [
      "Minimum Validation Loss: 3.6635\n"
     ]
    },
    {
     "data": {
      "image/png": "[encoded data removed]",
      "text/plain": [
       "<Figure size 432x288 with 1 Axes>"
      ]
     },
     "metadata": {
      "needs_background": "light"
     },
     "output_type": "display_data"
    }
   ],
   "source": [
    "history_df = pd.DataFrame(history.history)\n",
    "history_df.loc[0:, ['loss', 'val_loss']].plot()\n",
    "print(\"Minimum Validation Loss: {:0.4f}\".format(history_df['val_loss'].min()));"
   ]
  },
  {
   "cell_type": "code",
   "execution_count": 38,
   "id": "strategic-hamburg",
   "metadata": {},
   "outputs": [
    {
     "data": {
      "image/png": "[encoded data removed]",
      "text/plain": [
       "<Figure size 432x288 with 1 Axes>"
      ]
     },
     "metadata": {
      "needs_background": "light"
     },
     "output_type": "display_data"
    }
   ],
   "source": [
    "from matplotlib import pyplot as plt\n",
    "plt.plot(history.history['categorical_accuracy'])\n",
    "plt.plot(history.history['val_categorical_accuracy'])\n",
    "plt.title('model accuracy')\n",
    "plt.ylabel('accuracy')\n",
    "plt.xlabel('epoch')\n",
    "plt.legend(['train', 'val'], loc='upper left')\n",
    "plt.show()"
   ]
  },
  {
   "cell_type": "code",
   "execution_count": 39,
   "id": "threaded-cookie",
   "metadata": {},
   "outputs": [
    {
     "data": {
      "text/plain": [
       "{'loss': [8.759443815089455,\n",
       "  7.640370644813727,\n",
       "  7.0399527589151685,\n",
       "  6.49446288022128,\n",
       "  5.112241244513141,\n",
       "  3.8030540440693374,\n",
       "  3.6715308329290597,\n",
       "  3.7982399128069564,\n",
       "  4.05312332240018,\n",
       "  5.279471686186869,\n",
       "  6.658752989177861,\n",
       "  8.040614963563021,\n",
       "  8.7022444157561,\n",
       "  8.820300914039297,\n",
       "  9.540230636754313,\n",
       "  9.968247921998836,\n",
       "  9.339215475665636,\n",
       "  9.23168290351048,\n",
       "  8.197217665427972,\n",
       "  7.3854208623082185],\n",
       " 'categorical_accuracy': [0.338843,\n",
       "  0.2644628,\n",
       "  0.20661157,\n",
       "  0.14049587,\n",
       "  0.12190083,\n",
       "  0.11776859,\n",
       "  0.11776859,\n",
       "  0.11776859,\n",
       "  0.11776859,\n",
       "  0.11776859,\n",
       "  0.11776859,\n",
       "  0.11776859,\n",
       "  0.11776859,\n",
       "  0.11776859,\n",
       "  0.11570248,\n",
       "  0.11570248,\n",
       "  0.11570248,\n",
       "  0.11570248,\n",
       "  0.10950413,\n",
       "  0.1301653],\n",
       " 'mean_squared_error': [0.32407504,\n",
       "  0.36659437,\n",
       "  0.38546813,\n",
       "  0.41224784,\n",
       "  0.46472752,\n",
       "  0.5358628,\n",
       "  0.54341644,\n",
       "  0.53994745,\n",
       "  0.5438594,\n",
       "  0.5466193,\n",
       "  0.5448204,\n",
       "  0.5385784,\n",
       "  0.5311389,\n",
       "  0.5311408,\n",
       "  0.5081027,\n",
       "  0.4795015,\n",
       "  0.47204462,\n",
       "  0.42543474,\n",
       "  0.36704478,\n",
       "  0.3225817],\n",
       " 'val_loss': [8.671860522911198,\n",
       "  7.800047890084689,\n",
       "  7.3975067920372135,\n",
       "  6.3328204438334605,\n",
       "  5.264131108268362,\n",
       "  4.030136023388534,\n",
       "  3.6635466833583643,\n",
       "  3.947993572862422,\n",
       "  4.516158260527204,\n",
       "  5.766176006833061,\n",
       "  6.628565243033112,\n",
       "  7.920062174562548,\n",
       "  8.562430272336867,\n",
       "  9.810657344880651,\n",
       "  10.28921253954778,\n",
       "  9.676497381241596,\n",
       "  8.997426158092061,\n",
       "  8.099793281711516,\n",
       "  6.725937264864562,\n",
       "  5.298751655172129],\n",
       " 'val_categorical_accuracy': [0.30327868,\n",
       "  0.26229507,\n",
       "  0.19672132,\n",
       "  0.1557377,\n",
       "  0.14754099,\n",
       "  0.14754099,\n",
       "  0.14754099,\n",
       "  0.14754099,\n",
       "  0.14754099,\n",
       "  0.14754099,\n",
       "  0.14754099,\n",
       "  0.14754099,\n",
       "  0.14754099,\n",
       "  0.14754099,\n",
       "  0.14754099,\n",
       "  0.14754099,\n",
       "  0.14754099,\n",
       "  0.14754099,\n",
       "  0.13934426,\n",
       "  0.19672132],\n",
       " 'val_mean_squared_error': [0.3517663,\n",
       "  0.3762713,\n",
       "  0.38559616,\n",
       "  0.42006806,\n",
       "  0.4817789,\n",
       "  0.53539,\n",
       "  0.51142126,\n",
       "  0.51354694,\n",
       "  0.51308364,\n",
       "  0.5140928,\n",
       "  0.5089282,\n",
       "  0.49927035,\n",
       "  0.49689722,\n",
       "  0.48531187,\n",
       "  0.45236441,\n",
       "  0.4501893,\n",
       "  0.40880075,\n",
       "  0.35092965,\n",
       "  0.30266044,\n",
       "  0.26169917]}"
      ]
     },
     "execution_count": 39,
     "metadata": {},
     "output_type": "execute_result"
    }
   ],
   "source": [
    "history.history"
   ]
  },
  {
   "cell_type": "code",
   "execution_count": null,
   "id": "viral-retrieval",
   "metadata": {},
   "outputs": [],
   "source": []
  },
  {
   "cell_type": "code",
   "execution_count": null,
   "id": "multiple-commons",
   "metadata": {},
   "outputs": [],
   "source": []
  }
 ],
 "metadata": {
  "kernelspec": {
   "display_name": "Python 3",
   "language": "python",
   "name": "python3"
  },
  "language_info": {
   "codemirror_mode": {
    "name": "ipython",
    "version": 3
   },
   "file_extension": ".py",
   "mimetype": "text/x-python",
   "name": "python",
   "nbconvert_exporter": "python",
   "pygments_lexer": "ipython3",
   "version": "3.6.9"
  }
 },
 "nbformat": 4,
 "nbformat_minor": 5
}
